{
 "cells": [
  {
   "cell_type": "code",
   "execution_count": 1,
   "id": "3c8e5044-552f-461a-8761-de362c98c38c",
   "metadata": {},
   "outputs": [],
   "source": [
    "import os\n",
    "import cv2\n",
    "import numpy as np\n",
    "import qrcode"
   ]
  },
  {
   "cell_type": "code",
   "execution_count": 2,
   "id": "b9b6fb0c-be65-4171-9b6d-c67c2c455bf8",
   "metadata": {},
   "outputs": [],
   "source": [
    "FOLDER = 'qr_dataset'\n",
    "\n",
    "if not os.path.isdir(FOLDER):\n",
    "    os.mkdir(FOLDER)\n",
    "\n",
    "for data in np.random.choice(np.arange(1000, 10000), size=2500, replace=False):\n",
    "    for version in [1, 2, 3, 4]:\n",
    "        qr = qrcode.QRCode(\n",
    "            version=version,\n",
    "            error_correction=qrcode.constants.ERROR_CORRECT_M,\n",
    "            box_size=10,\n",
    "            border=4\n",
    "        )\n",
    "        qr.add_data(data)\n",
    "        qr.make(fit=True)\n",
    "\n",
    "        img = qr.make_image(fill_color='black', back_color='white')\n",
    "        img = np.float32(np.asarray(img)) * 255\n",
    "        img = np.dstack((img, img, img))\n",
    "\n",
    "        cv2.imwrite(os.path.join(FOLDER, f\"{data}-v{version}.png\"), img)"
   ]
  },
  {
   "cell_type": "code",
   "execution_count": null,
   "id": "45dc2bdc-4e74-44b5-81bb-6b8beb2a8bc3",
   "metadata": {},
   "outputs": [],
   "source": []
  }
 ],
 "metadata": {
  "kernelspec": {
   "display_name": "Python 3 (ipykernel)",
   "language": "python",
   "name": "python3"
  },
  "language_info": {
   "codemirror_mode": {
    "name": "ipython",
    "version": 3
   },
   "file_extension": ".py",
   "mimetype": "text/x-python",
   "name": "python",
   "nbconvert_exporter": "python",
   "pygments_lexer": "ipython3",
   "version": "3.8.16"
  }
 },
 "nbformat": 4,
 "nbformat_minor": 5
}
